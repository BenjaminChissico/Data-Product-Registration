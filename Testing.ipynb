{
 "cells": [
  {
   "cell_type": "code",
   "execution_count": 2,
   "id": "591588d4",
   "metadata": {},
   "outputs": [],
   "source": [
    "from azure.storage.blob import BlobServiceClient"
   ]
  },
  {
   "cell_type": "code",
   "execution_count": 6,
   "id": "8aba035c",
   "metadata": {},
   "outputs": [],
   "source": [
    "account_url = \"DefaultEndpointsProtocol=https;AccountName=dataproductstorage1;AccountKey=PJhh+ksj9p01kaypXOA7Nkb9oncOoBGTprKdmcKFloavksMUPKKTaeyT0F9xrTwz4CibSyBAc3rz+AStSi6PYw==;EndpointSuffix=core.windows.net\"\n",
    "container_name = \"data-products\"\n"
   ]
  },
  {
   "cell_type": "code",
   "execution_count": 5,
   "id": "66bb2aab",
   "metadata": {},
   "outputs": [
    {
     "data": {
      "text/plain": [
       "'https://dataproductstorage1.blob.core.windows.net'"
      ]
     },
     "execution_count": 5,
     "metadata": {},
     "output_type": "execute_result"
    }
   ],
   "source": [
    "account_url"
   ]
  },
  {
   "cell_type": "code",
   "execution_count": 7,
   "id": "07d08abf",
   "metadata": {},
   "outputs": [],
   "source": [
    "blob_service_cliet = BlobServiceClient.from_connection_string(account_url)"
   ]
  },
  {
   "cell_type": "code",
   "execution_count": 9,
   "id": "1d8d01cf",
   "metadata": {},
   "outputs": [],
   "source": [
    "blob_client = blob_service_cliet.get_blob_client(container_name,'DataProduct/Test.csv')"
   ]
  },
  {
   "cell_type": "code",
   "execution_count": null,
   "id": "c642e251",
   "metadata": {},
   "outputs": [],
   "source": [
    "class BlobOperation:\n",
    "    def __init__(\n",
    "        self,\n",
    "        account_url:str\n",
    "    ):\n",
    "        self.account_url = account_url\n",
    "        self.blob_service_client = BlobServiceClient.from_connection_string(self.account_url)\n",
    "    \n",
    "    def upload_file(self,container_name:str,file_data:bytes,blob_name:str):\n",
    "        \"\"\"Uploads a file into a container under the blob_name. \n",
    "        The blob_name can have slashes to indicate a folder structure.        \n",
    "        \"\"\"\n",
    "        try:\n",
    "            blob_client = self.blob_service_client.get_blob_client(container_name,blob_name)\n",
    "            blob_client.upload_blob(file_data)\n",
    "            return True,''\n",
    "        except Exception as e:\n",
    "            return False,e\n",
    "    \n",
    "    def upload_files(self,container_name:str,file_data:list[bytes],blob_names:list[str])->bool:\n",
    "        \"\"\"Uploads multiple files into a container under specific blob names\n",
    "        please make sur that the data in the file_data list is in syn with the names in the blob_names list.        \n",
    "        \"\"\"\n",
    "        for data,blob_name in zip(file_data,blob_names):\n",
    "            check,e = self.upload_file(container_name,data,blob_name)\n",
    "            if not check:\n",
    "                raise e \n",
    "    \n",
    "            \n",
    "            \n",
    "            \n",
    "            \n",
    "            \n",
    "        \n",
    "        \n",
    "        \n",
    "        \n",
    "        \n",
    "        \n",
    "        \n",
    "        \n",
    "        \n",
    "        \n",
    "        \n",
    "        \n",
    "        \n",
    "        \n",
    "        \n",
    "        "
   ]
  }
 ],
 "metadata": {
  "kernelspec": {
   "display_name": "Python 3 (ipykernel)",
   "language": "python",
   "name": "python3"
  },
  "language_info": {
   "codemirror_mode": {
    "name": "ipython",
    "version": 3
   },
   "file_extension": ".py",
   "mimetype": "text/x-python",
   "name": "python",
   "nbconvert_exporter": "python",
   "pygments_lexer": "ipython3",
   "version": "3.10.8"
  }
 },
 "nbformat": 4,
 "nbformat_minor": 5
}
